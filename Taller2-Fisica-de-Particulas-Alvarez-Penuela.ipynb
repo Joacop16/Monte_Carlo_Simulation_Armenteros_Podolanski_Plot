{
 "cells": [
  {
   "cell_type": "markdown",
   "metadata": {},
   "source": [
    "### Joaquin Peñuela Parra y María Sofía Álvarez López"
   ]
  },
  {
   "cell_type": "code",
   "execution_count": 1,
   "metadata": {},
   "outputs": [],
   "source": [
    "import numpy as np\n",
    "import pandas as pd\n",
    "import seaborn as sns\n",
    "import matplotlib.pyplot as plt"
   ]
  },
  {
   "cell_type": "markdown",
   "metadata": {},
   "source": [
    "<h1 align='center'>Taller 2: Simulación de Monte Carlo</h1>"
   ]
  },
  {
   "cell_type": "markdown",
   "metadata": {},
   "source": [
    "<font color='red'>TODO:</font>  Describir el proyecto.\n",
    "\n",
    "### 1. Input\n",
    "<font color='red'>TODO:</font> Describir el paso input.\n",
    "\n",
    "<font color='red'>TODO:</font> Descripción de las masas (podemos poner un ss de la tablita de Bernardo)."
   ]
  },
  {
   "cell_type": "code",
   "execution_count": 3,
   "metadata": {},
   "outputs": [],
   "source": [
    "# Masas en reposo de las particulas lambda, p, K y pi\n",
    "MLo = 1115.63 # (MeV)\n",
    "mP = 938.27231 # (MeV)\n",
    "MKo = 497.671 # (MeV)\n",
    "mPI = 139.56755 # (MeV)"
   ]
  },
  {
   "cell_type": "markdown",
   "metadata": {},
   "source": [
    "Definimos el número de eventos a simular:"
   ]
  },
  {
   "cell_type": "code",
   "execution_count": 21,
   "metadata": {},
   "outputs": [],
   "source": [
    "Nevent = 1000000"
   ]
  },
  {
   "cell_type": "markdown",
   "metadata": {},
   "source": [
    "### 2. Selección del proceso\n",
    "<font color='red'>TODO:</font> Descripción de los procesos a simular + secciones transversales."
   ]
  },
  {
   "cell_type": "code",
   "execution_count": 22,
   "metadata": {},
   "outputs": [],
   "source": [
    "# Funcion que genera n eventos entre 0 y 1, y se hace conteo de los decaimientos K\n",
    "# Lambda y Antilambda. En este caso, se toma que si el valor del arreglo esta entre\n",
    "# 0 y 0.5, este sera un decaimiento K. Si se encuentra entre 0.5 y 0.75 sera el\n",
    "# Decaimiento de un Antilambda. De lo contrario, sera el decaimiento de una particula\n",
    "# Lambda\n",
    "def generar_eventos(n):\n",
    "    eventos = np.random.rand(n)\n",
    "    eventos_k, eventos_anti_lambda, eventos_lambda = [],[],[]\n",
    "    for evento in eventos:\n",
    "        if evento < 0.5:\n",
    "            eventos_k.append(evento)\n",
    "        elif evento >= 0.5 and evento < 0.75:\n",
    "            eventos_anti_lambda.append(evento)\n",
    "        else:\n",
    "            eventos_lambda.append(evento)\n",
    "    return eventos_k, eventos_anti_lambda, eventos_lambda"
   ]
  },
  {
   "cell_type": "code",
   "execution_count": 23,
   "metadata": {},
   "outputs": [
    {
     "name": "stdout",
     "output_type": "stream",
     "text": [
      "El número de desintegraciones K0 es: 501234\n",
      "El número de desintegraciones anti-lambda 0 es: 249465\n",
      "El número de desintegraciones lambda 0 es: 249301\n"
     ]
    }
   ],
   "source": [
    "eventos_k, eventos_anti_lambda, eventos_lambda = generar_eventos(Nevent)\n",
    "#Numero de eventos de cada tipo generados\n",
    "n_k = len(eventos_k)\n",
    "n_anti_lambda = len(eventos_anti_lambda)\n",
    "n_lambda = len(eventos_lambda)\n",
    "# ---\n",
    "print('El número de desintegraciones K0 es: {}'.format(n_k))\n",
    "print('El número de desintegraciones anti-lambda 0 es: {}'.format(n_anti_lambda))\n",
    "print('El número de desintegraciones lambda 0 es: {}'.format(n_lambda))"
   ]
  },
  {
   "cell_type": "markdown",
   "metadata": {},
   "source": [
    "### 3. Elegir energía de M\n",
    "### 4. Momento de M que decae\n",
    "### 5. $\\gamma$ y $\\beta \\gamma$"
   ]
  },
  {
   "cell_type": "code",
   "execution_count": 24,
   "metadata": {},
   "outputs": [],
   "source": [
    "# Funcion que dada la masa de la particula madre genera \n",
    "# aleatoriamente valores para la energia con el que calcula\n",
    "# los factores gamma y beta\n",
    "def e_p_madre(M):\n",
    "    E_madre = np.random.normal(2*M, 0.2*M)\n",
    "    p_madre = np.sqrt(E_madre**2 - M**2)\n",
    "    gamma = E_madre/M\n",
    "    gamma_beta = np.linalg.norm(p_madre)/M\n",
    "    return gamma, gamma_beta"
   ]
  },
  {
   "cell_type": "markdown",
   "metadata": {},
   "source": [
    "### 6. Ubicación del sistema donde M está en reposo"
   ]
  },
  {
   "cell_type": "code",
   "execution_count": 28,
   "metadata": {},
   "outputs": [],
   "source": [
    "# Funcion que, dada la masa de la particula madre y las masas de las\n",
    "# particulas 1 y 2 generadas, retornan la energia y momentos de las \n",
    "# particulas generadas en el decaimiento medido respecto al centro \n",
    "# de masas de la particula\n",
    "def energia_momento_reposo(M,m_1,m_2):\n",
    "    # Calculo de las energias\n",
    "    E1_reposo = (M**2 + m_1**2 - m_2**2)/(2*M)\n",
    "    E2_reposo = (M**2 + m_2**2 - m_1**2)/(2*M)\n",
    "    # Calculo de los momentos\n",
    "    p1_reposo = np.sqrt(E1_reposo**2 - m_1**2)\n",
    "    p2_reposo = np.sqrt(E2_reposo**2 - m_2**2)\n",
    "    return E1_reposo, p1_reposo, E2_reposo, p2_reposo"
   ]
  },
  {
   "cell_type": "markdown",
   "metadata": {},
   "source": [
    "### 7. Elegir direcciones de momentos de productos"
   ]
  },
  {
   "cell_type": "code",
   "execution_count": null,
   "metadata": {},
   "outputs": [],
   "source": []
  }
 ],
 "metadata": {
  "kernelspec": {
   "display_name": "Python 3",
   "language": "python",
   "name": "python3"
  },
  "language_info": {
   "codemirror_mode": {
    "name": "ipython",
    "version": 3
   },
   "file_extension": ".py",
   "mimetype": "text/x-python",
   "name": "python",
   "nbconvert_exporter": "python",
   "pygments_lexer": "ipython3",
   "version": "3.8.3"
  }
 },
 "nbformat": 4,
 "nbformat_minor": 4
}
